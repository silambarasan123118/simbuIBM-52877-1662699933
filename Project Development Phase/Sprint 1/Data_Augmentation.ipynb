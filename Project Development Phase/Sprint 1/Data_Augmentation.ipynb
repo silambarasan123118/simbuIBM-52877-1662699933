{
  "nbformat": 4,
  "nbformat_minor": 0,
  "metadata": {
    "colab": {
      "provenance": [],
      "collapsed_sections": []
    },
    "kernelspec": {
      "name": "python3",
      "display_name": "Python 3"
    },
    "language_info": {
      "name": "python"
    }
  },
  "cells": [
    {
      "cell_type": "code",
      "source": [
        "!unzip \"/content/Digital Naturalist Dataset.zip\""
      ],
      "metadata": {
        "colab": {
          "base_uri": "https://localhost:8080/"
        },
        "id": "3GUjYAKFsgAn",
        "outputId": "8050098c-16ac-44f6-f643-120a17cbb88f"
      },
      "execution_count": 4,
      "outputs": [
        {
          "output_type": "stream",
          "name": "stdout",
          "text": [
            "Archive:  /content/Digital Naturalist Dataset.zip\n",
            "   creating: Digital Naturalist Dataset/\n",
            "   creating: Digital Naturalist Dataset/Bird/\n",
            "   creating: Digital Naturalist Dataset/Bird/Great Indian Bustard Bird/\n",
            "  inflating: Digital Naturalist Dataset/Bird/Great Indian Bustard Bird/download (1).jpg  \n",
            "  inflating: Digital Naturalist Dataset/Bird/Great Indian Bustard Bird/download (10).jpg  \n",
            "  inflating: Digital Naturalist Dataset/Bird/Great Indian Bustard Bird/download (11).jpg  \n",
            "  inflating: Digital Naturalist Dataset/Bird/Great Indian Bustard Bird/download (2).jpg  \n",
            "  inflating: Digital Naturalist Dataset/Bird/Great Indian Bustard Bird/download (3).jpg  \n",
            "  inflating: Digital Naturalist Dataset/Bird/Great Indian Bustard Bird/download (4).jpg  \n",
            "  inflating: Digital Naturalist Dataset/Bird/Great Indian Bustard Bird/download (5).jpg  \n",
            "  inflating: Digital Naturalist Dataset/Bird/Great Indian Bustard Bird/download (6).jpg  \n",
            "  inflating: Digital Naturalist Dataset/Bird/Great Indian Bustard Bird/download (7).jpg  \n",
            "  inflating: Digital Naturalist Dataset/Bird/Great Indian Bustard Bird/download (8).jpg  \n",
            "  inflating: Digital Naturalist Dataset/Bird/Great Indian Bustard Bird/download (9).jpg  \n",
            "  inflating: Digital Naturalist Dataset/Bird/Great Indian Bustard Bird/download.jpg  \n",
            " extracting: Digital Naturalist Dataset/Bird/Great Indian Bustard Bird/greatindianbustard-kRDC--621x414@LiveMint.webp  \n",
            "  inflating: Digital Naturalist Dataset/Bird/Great Indian Bustard Bird/images (1).jpg  \n",
            "  inflating: Digital Naturalist Dataset/Bird/Great Indian Bustard Bird/images (2).jpg  \n",
            "  inflating: Digital Naturalist Dataset/Bird/Great Indian Bustard Bird/images (3).jpg  \n",
            "  inflating: Digital Naturalist Dataset/Bird/Great Indian Bustard Bird/images (4).jpg  \n",
            "  inflating: Digital Naturalist Dataset/Bird/Great Indian Bustard Bird/images (5).jpg  \n",
            "  inflating: Digital Naturalist Dataset/Bird/Great Indian Bustard Bird/images (6).jpg  \n",
            "  inflating: Digital Naturalist Dataset/Bird/Great Indian Bustard Bird/images (7).jpg  \n",
            "  inflating: Digital Naturalist Dataset/Bird/Great Indian Bustard Bird/images (8).jpg  \n",
            "  inflating: Digital Naturalist Dataset/Bird/Great Indian Bustard Bird/images.jpg  \n",
            "   creating: Digital Naturalist Dataset/Bird/Spoon Billed Sandpiper Bird/\n",
            "  inflating: Digital Naturalist Dataset/Bird/Spoon Billed Sandpiper Bird/download (1).jpg  \n",
            "  inflating: Digital Naturalist Dataset/Bird/Spoon Billed Sandpiper Bird/download (12).jpg  \n",
            "  inflating: Digital Naturalist Dataset/Bird/Spoon Billed Sandpiper Bird/download (2).jpg  \n",
            "  inflating: Digital Naturalist Dataset/Bird/Spoon Billed Sandpiper Bird/download (3).jpg  \n",
            "  inflating: Digital Naturalist Dataset/Bird/Spoon Billed Sandpiper Bird/download (4).jpg  \n",
            "  inflating: Digital Naturalist Dataset/Bird/Spoon Billed Sandpiper Bird/download (5).jpg  \n",
            "  inflating: Digital Naturalist Dataset/Bird/Spoon Billed Sandpiper Bird/download (6).jpg  \n",
            "  inflating: Digital Naturalist Dataset/Bird/Spoon Billed Sandpiper Bird/download (7).jpg  \n",
            "  inflating: Digital Naturalist Dataset/Bird/Spoon Billed Sandpiper Bird/download.jpg  \n",
            "  inflating: Digital Naturalist Dataset/Bird/Spoon Billed Sandpiper Bird/images (1).jpg  \n",
            "  inflating: Digital Naturalist Dataset/Bird/Spoon Billed Sandpiper Bird/images (10).jpg  \n",
            "  inflating: Digital Naturalist Dataset/Bird/Spoon Billed Sandpiper Bird/images (11).jpg  \n",
            "  inflating: Digital Naturalist Dataset/Bird/Spoon Billed Sandpiper Bird/images (2).jpg  \n",
            "  inflating: Digital Naturalist Dataset/Bird/Spoon Billed Sandpiper Bird/images (3).jpg  \n",
            "  inflating: Digital Naturalist Dataset/Bird/Spoon Billed Sandpiper Bird/images (4).jpg  \n",
            "  inflating: Digital Naturalist Dataset/Bird/Spoon Billed Sandpiper Bird/images (5).jpg  \n",
            "  inflating: Digital Naturalist Dataset/Bird/Spoon Billed Sandpiper Bird/images (6).jpg  \n",
            "  inflating: Digital Naturalist Dataset/Bird/Spoon Billed Sandpiper Bird/images (7).jpg  \n",
            "  inflating: Digital Naturalist Dataset/Bird/Spoon Billed Sandpiper Bird/images (8).jpg  \n",
            "  inflating: Digital Naturalist Dataset/Bird/Spoon Billed Sandpiper Bird/images (9).jpg  \n",
            "  inflating: Digital Naturalist Dataset/Bird/Spoon Billed Sandpiper Bird/images.jpg  \n",
            "   creating: Digital Naturalist Dataset/Flower/\n",
            "   creating: Digital Naturalist Dataset/Flower/Corpse Flower/\n",
            "  inflating: Digital Naturalist Dataset/Flower/Corpse Flower/download (1).jpg  \n",
            "  inflating: Digital Naturalist Dataset/Flower/Corpse Flower/download (11).jpg  \n",
            "  inflating: Digital Naturalist Dataset/Flower/Corpse Flower/download (2).jpg  \n",
            "  inflating: Digital Naturalist Dataset/Flower/Corpse Flower/download (3).jpg  \n",
            "  inflating: Digital Naturalist Dataset/Flower/Corpse Flower/download (4).jpg  \n",
            "  inflating: Digital Naturalist Dataset/Flower/Corpse Flower/download (5).jpg  \n",
            "  inflating: Digital Naturalist Dataset/Flower/Corpse Flower/download.jpg  \n",
            "  inflating: Digital Naturalist Dataset/Flower/Corpse Flower/images (1).jpg  \n",
            "  inflating: Digital Naturalist Dataset/Flower/Corpse Flower/images (10).jpg  \n",
            "  inflating: Digital Naturalist Dataset/Flower/Corpse Flower/images (11).jpg  \n",
            "  inflating: Digital Naturalist Dataset/Flower/Corpse Flower/images (12).jpg  \n",
            "  inflating: Digital Naturalist Dataset/Flower/Corpse Flower/images (13).jpg  \n",
            "  inflating: Digital Naturalist Dataset/Flower/Corpse Flower/images (14).jpg  \n",
            "  inflating: Digital Naturalist Dataset/Flower/Corpse Flower/images (15).jpg  \n",
            "  inflating: Digital Naturalist Dataset/Flower/Corpse Flower/images (16).jpg  \n",
            " extracting: Digital Naturalist Dataset/Flower/Corpse Flower/images (17).jpg  \n",
            "  inflating: Digital Naturalist Dataset/Flower/Corpse Flower/images (2).jpg  \n",
            "  inflating: Digital Naturalist Dataset/Flower/Corpse Flower/images (3).jpg  \n",
            "  inflating: Digital Naturalist Dataset/Flower/Corpse Flower/images (4).jpg  \n",
            "  inflating: Digital Naturalist Dataset/Flower/Corpse Flower/images (5).jpg  \n",
            "  inflating: Digital Naturalist Dataset/Flower/Corpse Flower/images (6).jpg  \n",
            "  inflating: Digital Naturalist Dataset/Flower/Corpse Flower/images (7).jpg  \n",
            "  inflating: Digital Naturalist Dataset/Flower/Corpse Flower/images (8).jpg  \n",
            "  inflating: Digital Naturalist Dataset/Flower/Corpse Flower/images (9).jpg  \n",
            " extracting: Digital Naturalist Dataset/Flower/Corpse Flower/images.jpg  \n",
            "   creating: Digital Naturalist Dataset/Flower/Lady Slipper Orchid Flower/\n",
            "  inflating: Digital Naturalist Dataset/Flower/Lady Slipper Orchid Flower/download (1).jpg  \n",
            "  inflating: Digital Naturalist Dataset/Flower/Lady Slipper Orchid Flower/download (10).jpg  \n",
            "  inflating: Digital Naturalist Dataset/Flower/Lady Slipper Orchid Flower/download (2).jpg  \n",
            "  inflating: Digital Naturalist Dataset/Flower/Lady Slipper Orchid Flower/download (3).jpg  \n",
            "  inflating: Digital Naturalist Dataset/Flower/Lady Slipper Orchid Flower/download (4).jpg  \n",
            "  inflating: Digital Naturalist Dataset/Flower/Lady Slipper Orchid Flower/download (5).jpg  \n",
            "  inflating: Digital Naturalist Dataset/Flower/Lady Slipper Orchid Flower/download (6).jpg  \n",
            "  inflating: Digital Naturalist Dataset/Flower/Lady Slipper Orchid Flower/download (7).jpg  \n",
            "  inflating: Digital Naturalist Dataset/Flower/Lady Slipper Orchid Flower/download (8).jpg  \n",
            "  inflating: Digital Naturalist Dataset/Flower/Lady Slipper Orchid Flower/download (9).jpg  \n",
            "  inflating: Digital Naturalist Dataset/Flower/Lady Slipper Orchid Flower/download.jpg  \n",
            "  inflating: Digital Naturalist Dataset/Flower/Lady Slipper Orchid Flower/images (1).jpg  \n",
            "  inflating: Digital Naturalist Dataset/Flower/Lady Slipper Orchid Flower/images (10).jpg  \n",
            "  inflating: Digital Naturalist Dataset/Flower/Lady Slipper Orchid Flower/images (11).jpg  \n",
            "  inflating: Digital Naturalist Dataset/Flower/Lady Slipper Orchid Flower/images (12).jpg  \n",
            "  inflating: Digital Naturalist Dataset/Flower/Lady Slipper Orchid Flower/images (2).jpg  \n",
            "  inflating: Digital Naturalist Dataset/Flower/Lady Slipper Orchid Flower/images (3).jpg  \n",
            "  inflating: Digital Naturalist Dataset/Flower/Lady Slipper Orchid Flower/images (4).jpg  \n",
            "  inflating: Digital Naturalist Dataset/Flower/Lady Slipper Orchid Flower/images (5).jpg  \n",
            "  inflating: Digital Naturalist Dataset/Flower/Lady Slipper Orchid Flower/images (6).jpg  \n",
            "  inflating: Digital Naturalist Dataset/Flower/Lady Slipper Orchid Flower/images (7).jpg  \n",
            "  inflating: Digital Naturalist Dataset/Flower/Lady Slipper Orchid Flower/images (8).jpg  \n",
            "  inflating: Digital Naturalist Dataset/Flower/Lady Slipper Orchid Flower/images (9).jpg  \n",
            "  inflating: Digital Naturalist Dataset/Flower/Lady Slipper Orchid Flower/images.jpg  \n",
            "   creating: Digital Naturalist Dataset/Mammal/\n",
            "   creating: Digital Naturalist Dataset/Mammal/Pangolin Mammal/\n",
            "  inflating: Digital Naturalist Dataset/Mammal/Pangolin Mammal/download (1).jpg  \n",
            "  inflating: Digital Naturalist Dataset/Mammal/Pangolin Mammal/download (2).jpg  \n",
            "  inflating: Digital Naturalist Dataset/Mammal/Pangolin Mammal/download (3).jpg  \n",
            "  inflating: Digital Naturalist Dataset/Mammal/Pangolin Mammal/download (4).jpg  \n",
            " extracting: Digital Naturalist Dataset/Mammal/Pangolin Mammal/download (5).jpg  \n",
            "  inflating: Digital Naturalist Dataset/Mammal/Pangolin Mammal/download (6).jpg  \n",
            "  inflating: Digital Naturalist Dataset/Mammal/Pangolin Mammal/download (8).jpg  \n",
            "  inflating: Digital Naturalist Dataset/Mammal/Pangolin Mammal/download.jpg  \n",
            "  inflating: Digital Naturalist Dataset/Mammal/Pangolin Mammal/images (1).jpg  \n",
            "  inflating: Digital Naturalist Dataset/Mammal/Pangolin Mammal/images (10).jpg  \n",
            "  inflating: Digital Naturalist Dataset/Mammal/Pangolin Mammal/images (11).jpg  \n",
            "  inflating: Digital Naturalist Dataset/Mammal/Pangolin Mammal/images (12).jpg  \n",
            "  inflating: Digital Naturalist Dataset/Mammal/Pangolin Mammal/images (13).jpg  \n",
            "  inflating: Digital Naturalist Dataset/Mammal/Pangolin Mammal/images (14).jpg  \n",
            "  inflating: Digital Naturalist Dataset/Mammal/Pangolin Mammal/images (15).jpg  \n",
            "  inflating: Digital Naturalist Dataset/Mammal/Pangolin Mammal/images (16).jpg  \n",
            "  inflating: Digital Naturalist Dataset/Mammal/Pangolin Mammal/images (2).jpg  \n",
            "  inflating: Digital Naturalist Dataset/Mammal/Pangolin Mammal/images (3).jpg  \n",
            "  inflating: Digital Naturalist Dataset/Mammal/Pangolin Mammal/images (4).jpg  \n",
            "  inflating: Digital Naturalist Dataset/Mammal/Pangolin Mammal/images (5).jpg  \n",
            "  inflating: Digital Naturalist Dataset/Mammal/Pangolin Mammal/images (6).jpg  \n",
            "  inflating: Digital Naturalist Dataset/Mammal/Pangolin Mammal/images (7).jpg  \n",
            "  inflating: Digital Naturalist Dataset/Mammal/Pangolin Mammal/images (8).jpg  \n",
            "  inflating: Digital Naturalist Dataset/Mammal/Pangolin Mammal/images (9).jpg  \n",
            "  inflating: Digital Naturalist Dataset/Mammal/Pangolin Mammal/images.jpg  \n",
            "   creating: Digital Naturalist Dataset/Mammal/Senenca White Deer Mammal/\n",
            "  inflating: Digital Naturalist Dataset/Mammal/Senenca White Deer Mammal/download (1).jpg  \n",
            "  inflating: Digital Naturalist Dataset/Mammal/Senenca White Deer Mammal/download (2).jpg  \n",
            "  inflating: Digital Naturalist Dataset/Mammal/Senenca White Deer Mammal/download (3).jpg  \n",
            "  inflating: Digital Naturalist Dataset/Mammal/Senenca White Deer Mammal/download (7).jpg  \n",
            "  inflating: Digital Naturalist Dataset/Mammal/Senenca White Deer Mammal/download.jpg  \n",
            "  inflating: Digital Naturalist Dataset/Mammal/Senenca White Deer Mammal/images (1).jpg  \n",
            "  inflating: Digital Naturalist Dataset/Mammal/Senenca White Deer Mammal/images (10).jpg  \n",
            "  inflating: Digital Naturalist Dataset/Mammal/Senenca White Deer Mammal/images (11).jpg  \n",
            "  inflating: Digital Naturalist Dataset/Mammal/Senenca White Deer Mammal/images (12).jpg  \n",
            "  inflating: Digital Naturalist Dataset/Mammal/Senenca White Deer Mammal/images (13).jpg  \n",
            "  inflating: Digital Naturalist Dataset/Mammal/Senenca White Deer Mammal/images (14).jpg  \n",
            "  inflating: Digital Naturalist Dataset/Mammal/Senenca White Deer Mammal/images (15).jpg  \n",
            "  inflating: Digital Naturalist Dataset/Mammal/Senenca White Deer Mammal/images (16).jpg  \n",
            "  inflating: Digital Naturalist Dataset/Mammal/Senenca White Deer Mammal/images (2).jpg  \n",
            "  inflating: Digital Naturalist Dataset/Mammal/Senenca White Deer Mammal/images (3).jpg  \n",
            "  inflating: Digital Naturalist Dataset/Mammal/Senenca White Deer Mammal/images (4).jpg  \n",
            "  inflating: Digital Naturalist Dataset/Mammal/Senenca White Deer Mammal/images (5).jpg  \n",
            "  inflating: Digital Naturalist Dataset/Mammal/Senenca White Deer Mammal/images (6).jpg  \n",
            "  inflating: Digital Naturalist Dataset/Mammal/Senenca White Deer Mammal/images (7).jpg  \n",
            "  inflating: Digital Naturalist Dataset/Mammal/Senenca White Deer Mammal/images (8).jpg  \n",
            "  inflating: Digital Naturalist Dataset/Mammal/Senenca White Deer Mammal/images (9).jpg  \n",
            "  inflating: Digital Naturalist Dataset/Mammal/Senenca White Deer Mammal/images.jpg  \n"
          ]
        }
      ]
    },
    {
      "cell_type": "markdown",
      "source": [
        "#Importing Required Libraries"
      ],
      "metadata": {
        "id": "KK71Uttbrg0u"
      }
    },
    {
      "cell_type": "code",
      "execution_count": 1,
      "metadata": {
        "id": "RHNtc5DvrEW-"
      },
      "outputs": [],
      "source": [
        "from keras.preprocessing.image import ImageDataGenerator\n",
        "import cv2\n",
        "from os import listdir\n",
        "import time    "
      ]
    },
    {
      "cell_type": "markdown",
      "source": [
        "#Data Augment function\n"
      ],
      "metadata": {
        "id": "l7redhyXr_og"
      }
    },
    {
      "cell_type": "code",
      "source": [
        "def augment_data(file_dir, n_generated_samples, save_to_dir):\n",
        "    data_gen = ImageDataGenerator(rotation_range=30, \n",
        "                                  width_shift_range=0.1,\n",
        "                                  height_shift_range=0.15, \n",
        "                                  shear_range=0.25, \n",
        "                                  zoom_range = 0.2,\n",
        "                                  horizontal_flip=True, \n",
        "                                  vertical_flip=False, \n",
        "                                  fill_mode='nearest',\n",
        "                                  brightness_range=(0.5,1.2)\n",
        "                                 )\n",
        "    for filename in listdir(file_dir):\n",
        "        image = cv2.imread(file_dir + '/' + filename)\n",
        "        image = cv2.cvtColor(image,cv2.COLOR_BGR2RGB)\n",
        "        image = image.reshape((1,)+image.shape)\n",
        "        save_prefix = 'aug_' + filename[:-4]    \n",
        "        i=0\n",
        "        for batch in data_gen.flow(x=image, batch_size=1, save_to_dir=save_to_dir,\n",
        "                                   save_prefix=save_prefix, save_format='jpg'):\n",
        "            i += 1\n",
        "            if i > n_generated_samples:\n",
        "                break"
      ],
      "metadata": {
        "id": "qOhObDzUr_JG"
      },
      "execution_count": 7,
      "outputs": []
    },
    {
      "cell_type": "code",
      "source": [
        "augmented_data_path = '/content/Augument Dataset'\n",
        "augment_data(file_dir='/content/Digital Naturalist Dataset/Bird/Great Indian Bustard Bird', n_generated_samples=20, save_to_dir=augmented_data_path+'/GIB_AUG')\n",
        "augment_data(file_dir='/content/Digital Naturalist Dataset/Bird/Spoon Billed Sandpiper Bird', n_generated_samples=20, save_to_dir=augmented_data_path+'/SPS_AUG')\n",
        "augment_data(file_dir='/content/Digital Naturalist Dataset/Flower/Corpse Flower', n_generated_samples=20, save_to_dir=augmented_data_path+'/Corpse_AUG')\n",
        "augment_data(file_dir='/content/Digital Naturalist Dataset/Flower/Lady Slipper Orchid Flower', n_generated_samples=20, save_to_dir=augmented_data_path+'/LS_Orchid_AUG')\n",
        "augment_data(file_dir='/content/Digital Naturalist Dataset/Mammal/Pangolin Mammal', n_generated_samples=20, save_to_dir=augmented_data_path+'/LS_Pangolin_AUG')\n",
        "augment_data(file_dir='/content/Digital Naturalist Dataset/Mammal/Senenca White Deer Mammal', n_generated_samples=20, save_to_dir=augmented_data_path+'/SW_Deer_AUG')"
      ],
      "metadata": {
        "id": "ruxnKYLtsOQl"
      },
      "execution_count": 6,
      "outputs": []
    }
  ]
}